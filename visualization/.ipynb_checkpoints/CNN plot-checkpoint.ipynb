{
 "cells": [
  {
   "cell_type": "code",
   "execution_count": 20,
   "metadata": {},
   "outputs": [
    {
     "data": {
      "text/html": [
       "        <script type=\"text/javascript\">\n",
       "        window.PlotlyConfig = {MathJaxConfig: 'local'};\n",
       "        if (window.MathJax) {MathJax.Hub.Config({SVG: {font: \"STIX-Web\"}});}\n",
       "        if (typeof require !== 'undefined') {\n",
       "        require.undef(\"plotly\");\n",
       "        requirejs.config({\n",
       "            paths: {\n",
       "                'plotly': ['https://cdn.plot.ly/plotly-latest.min']\n",
       "            }\n",
       "        });\n",
       "        require(['plotly'], function(Plotly) {\n",
       "            window._Plotly = Plotly;\n",
       "        });\n",
       "        }\n",
       "        </script>\n",
       "        "
      ]
     },
     "metadata": {},
     "output_type": "display_data"
    }
   ],
   "source": [
    "import matplotlib.pyplot as plt\n",
    "import numpy as np\n",
    "import pandas as pd\n",
    "import plotly.express as px\n",
    "# Standard plotly imports\n",
    "\n",
    "import plotly.graph_objs as go\n",
    "from plotly.offline import iplot, init_notebook_mode\n",
    "import cufflinks\n",
    "import plotly.express as px\n",
    "cufflinks.go_offline(connected=True)\n",
    "\n",
    "%matplotlib inline"
   ]
  },
  {
   "cell_type": "code",
   "execution_count": 21,
   "metadata": {},
   "outputs": [
    {
     "data": {
      "text/html": [
       "        <script type=\"text/javascript\">\n",
       "        window.PlotlyConfig = {MathJaxConfig: 'local'};\n",
       "        if (window.MathJax) {MathJax.Hub.Config({SVG: {font: \"STIX-Web\"}});}\n",
       "        if (typeof require !== 'undefined') {\n",
       "        require.undef(\"plotly\");\n",
       "        requirejs.config({\n",
       "            paths: {\n",
       "                'plotly': ['https://cdn.plot.ly/plotly-latest.min']\n",
       "            }\n",
       "        });\n",
       "        require(['plotly'], function(Plotly) {\n",
       "            window._Plotly = Plotly;\n",
       "        });\n",
       "        }\n",
       "        </script>\n",
       "        "
      ]
     },
     "metadata": {},
     "output_type": "display_data"
    }
   ],
   "source": [
    "init_notebook_mode(connected=True)"
   ]
  },
  {
   "cell_type": "code",
   "execution_count": 14,
   "metadata": {
    "scrolled": true
   },
   "outputs": [
    {
     "name": "stdout",
     "output_type": "stream",
     "text": [
      "Epoch 1/50\n",
      "\n",
      "Epoch 2/50\n",
      "\n",
      "Epoch 3/50\n",
      "\n",
      "Epoch 4/50\n",
      "\n",
      "Epoch 5/50\n",
      "\n",
      "Epoch 6/50\n",
      "\n",
      "Epoch 7/50\n",
      "\n",
      "Epoch 8/50\n",
      "\n",
      "Epoch 9/50\n",
      "\n",
      "Epoch 10/50\n",
      "\n",
      "Epoch 11/50\n",
      "\n",
      "Epoch 12/50\n",
      "\n",
      "Epoch 13/50\n",
      "\n",
      "Epoch 14/50\n",
      "\n",
      "Epoch 15/50\n",
      "\n",
      "Epoch 16/50\n",
      "\n",
      "Epoch 17/50\n",
      "\n",
      "Epoch 18/50\n",
      "\n",
      "Epoch 19/50\n",
      "\n",
      "Epoch 20/50\n",
      "\n",
      "Epoch 21/50\n",
      "\n",
      "Epoch 22/50\n",
      "\n",
      "Epoch 23/50\n",
      "\n",
      "Epoch 24/50\n",
      "\n",
      "Epoch 25/50\n",
      "\n",
      "Epoch 26/50\n",
      "\n",
      "Epoch 27/50\n",
      "\n",
      "Epoch 28/50\n",
      "\n",
      "Epoch 29/50\n",
      "\n",
      "Epoch 30/50\n",
      "\n",
      "Epoch 31/50\n",
      "\n",
      "Epoch 32/50\n",
      "\n",
      "Epoch 33/50\n",
      "\n",
      "Epoch 34/50\n",
      "\n",
      "Epoch 35/50\n",
      "\n",
      "Epoch 36/50\n",
      "\n",
      "Epoch 37/50\n",
      "\n",
      "Epoch 38/50\n",
      "\n",
      "Epoch 39/50\n",
      "\n",
      "Epoch 40/50\n",
      "\n",
      "Epoch 41/50\n",
      "\n",
      "Epoch 42/50\n",
      "\n",
      "Epoch 43/50\n",
      "\n",
      "Epoch 44/50\n",
      "\n",
      "Epoch 45/50\n",
      "\n",
      "Epoch 46/50\n",
      "\n",
      "Epoch 47/50\n",
      "\n",
      "Epoch 48/50\n",
      "\n",
      "Epoch 49/50\n",
      "\n",
      "Epoch 50/50\n",
      "\n",
      "\n"
     ]
    }
   ],
   "source": [
    "data = []\n",
    "epoch_no = 0\n",
    "with open(\"results.txt\") as result:\n",
    "    while True:\n",
    "        line = result.readline()\n",
    "        print(line)\n",
    "        if line == '':\n",
    "            break\n",
    "        \n",
    "        if line.startswith('E'):\n",
    "            data.append({})\n",
    "            \n",
    "        line = result.readline().split(';')\n",
    "        train_loss = line[0].split(':')[1].lstrip()\n",
    "        data[epoch_no]['train_loss'] = float(train_loss)\n",
    "        \n",
    "        train_acc = line[1].split(':')[1].strip()\n",
    "        data[epoch_no]['train_acc'] = float(train_acc)\n",
    "        \n",
    "        line = result.readline().split(';')\n",
    "        test_loss = line[0].split(':')[1].lstrip()\n",
    "        data[epoch_no]['test_loss'] = float(test_loss)\n",
    "        \n",
    "        test_acc = line[1].split(':')[1].strip()\n",
    "        data[epoch_no]['test_acc'] = float(test_acc)\n",
    "        \n",
    "        epoch_no += 1"
   ]
  },
  {
   "cell_type": "code",
   "execution_count": 15,
   "metadata": {},
   "outputs": [
    {
     "data": {
      "text/plain": [
       "[{'train_loss': 1.7964,\n",
       "  'train_acc': 0.326,\n",
       "  'test_loss': 1.6615,\n",
       "  'test_acc': 0.4163},\n",
       " {'train_loss': 1.3983,\n",
       "  'train_acc': 0.4872,\n",
       "  'test_loss': 1.23,\n",
       "  'test_acc': 0.565},\n",
       " {'train_loss': 1.1673,\n",
       "  'train_acc': 0.5775,\n",
       "  'test_loss': 1.3603,\n",
       "  'test_acc': 0.5894},\n",
       " {'train_loss': 1.0128,\n",
       "  'train_acc': 0.6359,\n",
       "  'test_loss': 1.1496,\n",
       "  'test_acc': 0.6482},\n",
       " {'train_loss': 0.9066,\n",
       "  'train_acc': 0.6753,\n",
       "  'test_loss': 0.8905,\n",
       "  'test_acc': 0.6768},\n",
       " {'train_loss': 0.826,\n",
       "  'train_acc': 0.7049,\n",
       "  'test_loss': 0.9031,\n",
       "  'test_acc': 0.687},\n",
       " {'train_loss': 0.7637,\n",
       "  'train_acc': 0.7277,\n",
       "  'test_loss': 0.7133,\n",
       "  'test_acc': 0.7427},\n",
       " {'train_loss': 0.7041,\n",
       "  'train_acc': 0.749,\n",
       "  'test_loss': 0.7019,\n",
       "  'test_acc': 0.7539},\n",
       " {'train_loss': 0.6569,\n",
       "  'train_acc': 0.7693,\n",
       "  'test_loss': 0.693,\n",
       "  'test_acc': 0.7608},\n",
       " {'train_loss': 0.6156,\n",
       "  'train_acc': 0.7826,\n",
       "  'test_loss': 0.7109,\n",
       "  'test_acc': 0.7794},\n",
       " {'train_loss': 0.5752,\n",
       "  'train_acc': 0.7981,\n",
       "  'test_loss': 0.5828,\n",
       "  'test_acc': 0.8},\n",
       " {'train_loss': 0.5312,\n",
       "  'train_acc': 0.8129,\n",
       "  'test_loss': 0.591,\n",
       "  'test_acc': 0.7996},\n",
       " {'train_loss': 0.5007,\n",
       "  'train_acc': 0.8245,\n",
       "  'test_loss': 0.5409,\n",
       "  'test_acc': 0.818},\n",
       " {'train_loss': 0.4658,\n",
       "  'train_acc': 0.8365,\n",
       "  'test_loss': 0.5162,\n",
       "  'test_acc': 0.8243},\n",
       " {'train_loss': 0.4416,\n",
       "  'train_acc': 0.846,\n",
       "  'test_loss': 0.4735,\n",
       "  'test_acc': 0.8425},\n",
       " {'train_loss': 0.4093,\n",
       "  'train_acc': 0.856,\n",
       "  'test_loss': 0.4425,\n",
       "  'test_acc': 0.849},\n",
       " {'train_loss': 0.3904,\n",
       "  'train_acc': 0.863,\n",
       "  'test_loss': 0.425,\n",
       "  'test_acc': 0.8578},\n",
       " {'train_loss': 0.3667,\n",
       "  'train_acc': 0.8727,\n",
       "  'test_loss': 0.4431,\n",
       "  'test_acc': 0.852},\n",
       " {'train_loss': 0.3445,\n",
       "  'train_acc': 0.8799,\n",
       "  'test_loss': 0.4052,\n",
       "  'test_acc': 0.8643},\n",
       " {'train_loss': 0.3271,\n",
       "  'train_acc': 0.8861,\n",
       "  'test_loss': 0.4257,\n",
       "  'test_acc': 0.8608},\n",
       " {'train_loss': 0.3102,\n",
       "  'train_acc': 0.8914,\n",
       "  'test_loss': 0.3873,\n",
       "  'test_acc': 0.8698},\n",
       " {'train_loss': 0.2968,\n",
       "  'train_acc': 0.8953,\n",
       "  'test_loss': 0.3789,\n",
       "  'test_acc': 0.8787},\n",
       " {'train_loss': 0.28,\n",
       "  'train_acc': 0.9014,\n",
       "  'test_loss': 0.3791,\n",
       "  'test_acc': 0.8794},\n",
       " {'train_loss': 0.2662,\n",
       "  'train_acc': 0.9057,\n",
       "  'test_loss': 0.3782,\n",
       "  'test_acc': 0.8803},\n",
       " {'train_loss': 0.2546,\n",
       "  'train_acc': 0.9099,\n",
       "  'test_loss': 0.4275,\n",
       "  'test_acc': 0.8665},\n",
       " {'train_loss': 0.2448,\n",
       "  'train_acc': 0.9145,\n",
       "  'test_loss': 0.4169,\n",
       "  'test_acc': 0.8823},\n",
       " {'train_loss': 0.2315,\n",
       "  'train_acc': 0.9188,\n",
       "  'test_loss': 0.3678,\n",
       "  'test_acc': 0.8871},\n",
       " {'train_loss': 0.2247,\n",
       "  'train_acc': 0.9219,\n",
       "  'test_loss': 0.3314,\n",
       "  'test_acc': 0.8954},\n",
       " {'train_loss': 0.2105,\n",
       "  'train_acc': 0.9265,\n",
       "  'test_loss': 0.3733,\n",
       "  'test_acc': 0.8829},\n",
       " {'train_loss': 0.2046,\n",
       "  'train_acc': 0.9288,\n",
       "  'test_loss': 0.3764,\n",
       "  'test_acc': 0.8874},\n",
       " {'train_loss': 0.1966,\n",
       "  'train_acc': 0.9303,\n",
       "  'test_loss': 0.3583,\n",
       "  'test_acc': 0.8897},\n",
       " {'train_loss': 0.1886,\n",
       "  'train_acc': 0.9328,\n",
       "  'test_loss': 0.3576,\n",
       "  'test_acc': 0.8902},\n",
       " {'train_loss': 0.1772,\n",
       "  'train_acc': 0.9371,\n",
       "  'test_loss': 0.337,\n",
       "  'test_acc': 0.8989},\n",
       " {'train_loss': 0.1684,\n",
       "  'train_acc': 0.9402,\n",
       "  'test_loss': 0.372,\n",
       "  'test_acc': 0.8979},\n",
       " {'train_loss': 0.1678,\n",
       "  'train_acc': 0.9402,\n",
       "  'test_loss': 0.3479,\n",
       "  'test_acc': 0.8934},\n",
       " {'train_loss': 0.1595,\n",
       "  'train_acc': 0.9433,\n",
       "  'test_loss': 0.3411,\n",
       "  'test_acc': 0.9014},\n",
       " {'train_loss': 0.155,\n",
       "  'train_acc': 0.9449,\n",
       "  'test_loss': 0.348,\n",
       "  'test_acc': 0.8989},\n",
       " {'train_loss': 0.145,\n",
       "  'train_acc': 0.9496,\n",
       "  'test_loss': 0.4113,\n",
       "  'test_acc': 0.886},\n",
       " {'train_loss': 0.1392,\n",
       "  'train_acc': 0.951,\n",
       "  'test_loss': 0.3711,\n",
       "  'test_acc': 0.8944},\n",
       " {'train_loss': 0.1323,\n",
       "  'train_acc': 0.9534,\n",
       "  'test_loss': 0.3515,\n",
       "  'test_acc': 0.9015},\n",
       " {'train_loss': 0.1337,\n",
       "  'train_acc': 0.9532,\n",
       "  'test_loss': 0.3635,\n",
       "  'test_acc': 0.9038},\n",
       " {'train_loss': 0.1249,\n",
       "  'train_acc': 0.9555,\n",
       "  'test_loss': 0.3515,\n",
       "  'test_acc': 0.9013},\n",
       " {'train_loss': 0.1241,\n",
       "  'train_acc': 0.9563,\n",
       "  'test_loss': 0.3565,\n",
       "  'test_acc': 0.8992},\n",
       " {'train_loss': 0.1215,\n",
       "  'train_acc': 0.9562,\n",
       "  'test_loss': 0.3325,\n",
       "  'test_acc': 0.904},\n",
       " {'train_loss': 0.1114,\n",
       "  'train_acc': 0.9589,\n",
       "  'test_loss': 0.3335,\n",
       "  'test_acc': 0.9106},\n",
       " {'train_loss': 0.1114,\n",
       "  'train_acc': 0.9608,\n",
       "  'test_loss': 0.36,\n",
       "  'test_acc': 0.9014},\n",
       " {'train_loss': 0.1047,\n",
       "  'train_acc': 0.9634,\n",
       "  'test_loss': 0.3872,\n",
       "  'test_acc': 0.8991},\n",
       " {'train_loss': 0.1031,\n",
       "  'train_acc': 0.9635,\n",
       "  'test_loss': 0.3733,\n",
       "  'test_acc': 0.902},\n",
       " {'train_loss': 0.099,\n",
       "  'train_acc': 0.9651,\n",
       "  'test_loss': 0.3848,\n",
       "  'test_acc': 0.9071},\n",
       " {'train_loss': 0.0983,\n",
       "  'train_acc': 0.9651,\n",
       "  'test_loss': 0.3672,\n",
       "  'test_acc': 0.9046}]"
      ]
     },
     "execution_count": 15,
     "metadata": {},
     "output_type": "execute_result"
    }
   ],
   "source": [
    "data"
   ]
  },
  {
   "cell_type": "code",
   "execution_count": 29,
   "metadata": {
    "scrolled": true
   },
   "outputs": [
    {
     "data": {
      "text/html": [
       "<div>\n",
       "<style scoped>\n",
       "    .dataframe tbody tr th:only-of-type {\n",
       "        vertical-align: middle;\n",
       "    }\n",
       "\n",
       "    .dataframe tbody tr th {\n",
       "        vertical-align: top;\n",
       "    }\n",
       "\n",
       "    .dataframe thead th {\n",
       "        text-align: right;\n",
       "    }\n",
       "</style>\n",
       "<table border=\"1\" class=\"dataframe\">\n",
       "  <thead>\n",
       "    <tr style=\"text-align: right;\">\n",
       "      <th></th>\n",
       "      <th>train_loss</th>\n",
       "      <th>train_acc</th>\n",
       "      <th>test_loss</th>\n",
       "      <th>test_acc</th>\n",
       "      <th>Epoch</th>\n",
       "    </tr>\n",
       "  </thead>\n",
       "  <tbody>\n",
       "    <tr>\n",
       "      <td>0</td>\n",
       "      <td>1.7964</td>\n",
       "      <td>0.3260</td>\n",
       "      <td>1.6615</td>\n",
       "      <td>0.4163</td>\n",
       "      <td>1</td>\n",
       "    </tr>\n",
       "    <tr>\n",
       "      <td>1</td>\n",
       "      <td>1.3983</td>\n",
       "      <td>0.4872</td>\n",
       "      <td>1.2300</td>\n",
       "      <td>0.5650</td>\n",
       "      <td>2</td>\n",
       "    </tr>\n",
       "    <tr>\n",
       "      <td>2</td>\n",
       "      <td>1.1673</td>\n",
       "      <td>0.5775</td>\n",
       "      <td>1.3603</td>\n",
       "      <td>0.5894</td>\n",
       "      <td>3</td>\n",
       "    </tr>\n",
       "    <tr>\n",
       "      <td>3</td>\n",
       "      <td>1.0128</td>\n",
       "      <td>0.6359</td>\n",
       "      <td>1.1496</td>\n",
       "      <td>0.6482</td>\n",
       "      <td>4</td>\n",
       "    </tr>\n",
       "    <tr>\n",
       "      <td>4</td>\n",
       "      <td>0.9066</td>\n",
       "      <td>0.6753</td>\n",
       "      <td>0.8905</td>\n",
       "      <td>0.6768</td>\n",
       "      <td>5</td>\n",
       "    </tr>\n",
       "  </tbody>\n",
       "</table>\n",
       "</div>"
      ],
      "text/plain": [
       "   train_loss  train_acc  test_loss  test_acc  Epoch\n",
       "0      1.7964     0.3260     1.6615    0.4163      1\n",
       "1      1.3983     0.4872     1.2300    0.5650      2\n",
       "2      1.1673     0.5775     1.3603    0.5894      3\n",
       "3      1.0128     0.6359     1.1496    0.6482      4\n",
       "4      0.9066     0.6753     0.8905    0.6768      5"
      ]
     },
     "execution_count": 29,
     "metadata": {},
     "output_type": "execute_result"
    }
   ],
   "source": [
    "df = pd.DataFrame(data)\n",
    "df['Epoch'] = df.index + 1\n",
    "\n",
    "df.head()"
   ]
  },
  {
   "cell_type": "code",
   "execution_count": 35,
   "metadata": {},
   "outputs": [
    {
     "data": {
      "application/vnd.plotly.v1+json": {
       "config": {
        "plotlyServerURL": "https://plot.ly"
       },
       "data": [
        {
         "mode": "lines+markers",
         "name": "Training Loss",
         "type": "scatter",
         "x": [
          1,
          2,
          3,
          4,
          5,
          6,
          7,
          8,
          9,
          10,
          11,
          12,
          13,
          14,
          15,
          16,
          17,
          18,
          19,
          20,
          21,
          22,
          23,
          24,
          25,
          26,
          27,
          28,
          29,
          30,
          31,
          32,
          33,
          34,
          35,
          36,
          37,
          38,
          39,
          40,
          41,
          42,
          43,
          44,
          45,
          46,
          47,
          48,
          49,
          50
         ],
         "y": [
          1.7964,
          1.3983,
          1.1673,
          1.0128,
          0.9066,
          0.826,
          0.7637,
          0.7041,
          0.6569,
          0.6156,
          0.5752,
          0.5312,
          0.5007,
          0.4658,
          0.4416,
          0.4093,
          0.3904,
          0.3667,
          0.3445,
          0.3271,
          0.3102,
          0.2968,
          0.28,
          0.2662,
          0.2546,
          0.2448,
          0.2315,
          0.2247,
          0.2105,
          0.2046,
          0.1966,
          0.1886,
          0.1772,
          0.1684,
          0.1678,
          0.1595,
          0.155,
          0.145,
          0.1392,
          0.1323,
          0.1337,
          0.1249,
          0.1241,
          0.1215,
          0.1114,
          0.1114,
          0.1047,
          0.1031,
          0.099,
          0.0983
         ]
        },
        {
         "mode": "lines+markers",
         "name": "Training Accuracy",
         "type": "scatter",
         "x": [
          1,
          2,
          3,
          4,
          5,
          6,
          7,
          8,
          9,
          10,
          11,
          12,
          13,
          14,
          15,
          16,
          17,
          18,
          19,
          20,
          21,
          22,
          23,
          24,
          25,
          26,
          27,
          28,
          29,
          30,
          31,
          32,
          33,
          34,
          35,
          36,
          37,
          38,
          39,
          40,
          41,
          42,
          43,
          44,
          45,
          46,
          47,
          48,
          49,
          50
         ],
         "y": [
          0.326,
          0.4872,
          0.5775,
          0.6359,
          0.6753,
          0.7049,
          0.7277,
          0.749,
          0.7693,
          0.7826,
          0.7981,
          0.8129,
          0.8245,
          0.8365,
          0.846,
          0.856,
          0.863,
          0.8727,
          0.8799,
          0.8861,
          0.8914,
          0.8953,
          0.9014,
          0.9057,
          0.9099,
          0.9145,
          0.9188,
          0.9219,
          0.9265,
          0.9288,
          0.9303,
          0.9328,
          0.9371,
          0.9402,
          0.9402,
          0.9433,
          0.9449,
          0.9496,
          0.951,
          0.9534,
          0.9532,
          0.9555,
          0.9563,
          0.9562,
          0.9589,
          0.9608,
          0.9634,
          0.9635,
          0.9651,
          0.9651
         ]
        },
        {
         "mode": "lines+markers",
         "name": "Test Accuracy",
         "type": "scatter",
         "x": [
          1,
          2,
          3,
          4,
          5,
          6,
          7,
          8,
          9,
          10,
          11,
          12,
          13,
          14,
          15,
          16,
          17,
          18,
          19,
          20,
          21,
          22,
          23,
          24,
          25,
          26,
          27,
          28,
          29,
          30,
          31,
          32,
          33,
          34,
          35,
          36,
          37,
          38,
          39,
          40,
          41,
          42,
          43,
          44,
          45,
          46,
          47,
          48,
          49,
          50
         ],
         "y": [
          0.4163,
          0.565,
          0.5894,
          0.6482,
          0.6768,
          0.687,
          0.7427,
          0.7539,
          0.7608,
          0.7794,
          0.8,
          0.7996,
          0.818,
          0.8243,
          0.8425,
          0.849,
          0.8578,
          0.852,
          0.8643,
          0.8608,
          0.8698,
          0.8787,
          0.8794,
          0.8803,
          0.8665,
          0.8823,
          0.8871,
          0.8954,
          0.8829,
          0.8874,
          0.8897,
          0.8902,
          0.8989,
          0.8979,
          0.8934,
          0.9014,
          0.8989,
          0.886,
          0.8944,
          0.9015,
          0.9038,
          0.9013,
          0.8992,
          0.904,
          0.9106,
          0.9014,
          0.8991,
          0.902,
          0.9071,
          0.9046
         ]
        },
        {
         "mode": "lines+markers",
         "name": "Test loss",
         "type": "scatter",
         "x": [
          1,
          2,
          3,
          4,
          5,
          6,
          7,
          8,
          9,
          10,
          11,
          12,
          13,
          14,
          15,
          16,
          17,
          18,
          19,
          20,
          21,
          22,
          23,
          24,
          25,
          26,
          27,
          28,
          29,
          30,
          31,
          32,
          33,
          34,
          35,
          36,
          37,
          38,
          39,
          40,
          41,
          42,
          43,
          44,
          45,
          46,
          47,
          48,
          49,
          50
         ],
         "y": [
          1.6615,
          1.23,
          1.3603,
          1.1496,
          0.8905,
          0.9031,
          0.7133,
          0.7019,
          0.693,
          0.7109,
          0.5828,
          0.591,
          0.5409,
          0.5162,
          0.4735,
          0.4425,
          0.425,
          0.4431,
          0.4052,
          0.4257,
          0.3873,
          0.3789,
          0.3791,
          0.3782,
          0.4275,
          0.4169,
          0.3678,
          0.3314,
          0.3733,
          0.3764,
          0.3583,
          0.3576,
          0.337,
          0.372,
          0.3479,
          0.3411,
          0.348,
          0.4113,
          0.3711,
          0.3515,
          0.3635,
          0.3515,
          0.3565,
          0.3325,
          0.3335,
          0.36,
          0.3872,
          0.3733,
          0.3848,
          0.3672
         ]
        }
       ],
       "layout": {
        "template": {
         "data": {
          "bar": [
           {
            "error_x": {
             "color": "#2a3f5f"
            },
            "error_y": {
             "color": "#2a3f5f"
            },
            "marker": {
             "line": {
              "color": "#E5ECF6",
              "width": 0.5
             }
            },
            "type": "bar"
           }
          ],
          "barpolar": [
           {
            "marker": {
             "line": {
              "color": "#E5ECF6",
              "width": 0.5
             }
            },
            "type": "barpolar"
           }
          ],
          "carpet": [
           {
            "aaxis": {
             "endlinecolor": "#2a3f5f",
             "gridcolor": "white",
             "linecolor": "white",
             "minorgridcolor": "white",
             "startlinecolor": "#2a3f5f"
            },
            "baxis": {
             "endlinecolor": "#2a3f5f",
             "gridcolor": "white",
             "linecolor": "white",
             "minorgridcolor": "white",
             "startlinecolor": "#2a3f5f"
            },
            "type": "carpet"
           }
          ],
          "choropleth": [
           {
            "colorbar": {
             "outlinewidth": 0,
             "ticks": ""
            },
            "type": "choropleth"
           }
          ],
          "contour": [
           {
            "colorbar": {
             "outlinewidth": 0,
             "ticks": ""
            },
            "colorscale": [
             [
              0,
              "#0d0887"
             ],
             [
              0.1111111111111111,
              "#46039f"
             ],
             [
              0.2222222222222222,
              "#7201a8"
             ],
             [
              0.3333333333333333,
              "#9c179e"
             ],
             [
              0.4444444444444444,
              "#bd3786"
             ],
             [
              0.5555555555555556,
              "#d8576b"
             ],
             [
              0.6666666666666666,
              "#ed7953"
             ],
             [
              0.7777777777777778,
              "#fb9f3a"
             ],
             [
              0.8888888888888888,
              "#fdca26"
             ],
             [
              1,
              "#f0f921"
             ]
            ],
            "type": "contour"
           }
          ],
          "contourcarpet": [
           {
            "colorbar": {
             "outlinewidth": 0,
             "ticks": ""
            },
            "type": "contourcarpet"
           }
          ],
          "heatmap": [
           {
            "colorbar": {
             "outlinewidth": 0,
             "ticks": ""
            },
            "colorscale": [
             [
              0,
              "#0d0887"
             ],
             [
              0.1111111111111111,
              "#46039f"
             ],
             [
              0.2222222222222222,
              "#7201a8"
             ],
             [
              0.3333333333333333,
              "#9c179e"
             ],
             [
              0.4444444444444444,
              "#bd3786"
             ],
             [
              0.5555555555555556,
              "#d8576b"
             ],
             [
              0.6666666666666666,
              "#ed7953"
             ],
             [
              0.7777777777777778,
              "#fb9f3a"
             ],
             [
              0.8888888888888888,
              "#fdca26"
             ],
             [
              1,
              "#f0f921"
             ]
            ],
            "type": "heatmap"
           }
          ],
          "heatmapgl": [
           {
            "colorbar": {
             "outlinewidth": 0,
             "ticks": ""
            },
            "colorscale": [
             [
              0,
              "#0d0887"
             ],
             [
              0.1111111111111111,
              "#46039f"
             ],
             [
              0.2222222222222222,
              "#7201a8"
             ],
             [
              0.3333333333333333,
              "#9c179e"
             ],
             [
              0.4444444444444444,
              "#bd3786"
             ],
             [
              0.5555555555555556,
              "#d8576b"
             ],
             [
              0.6666666666666666,
              "#ed7953"
             ],
             [
              0.7777777777777778,
              "#fb9f3a"
             ],
             [
              0.8888888888888888,
              "#fdca26"
             ],
             [
              1,
              "#f0f921"
             ]
            ],
            "type": "heatmapgl"
           }
          ],
          "histogram": [
           {
            "marker": {
             "colorbar": {
              "outlinewidth": 0,
              "ticks": ""
             }
            },
            "type": "histogram"
           }
          ],
          "histogram2d": [
           {
            "colorbar": {
             "outlinewidth": 0,
             "ticks": ""
            },
            "colorscale": [
             [
              0,
              "#0d0887"
             ],
             [
              0.1111111111111111,
              "#46039f"
             ],
             [
              0.2222222222222222,
              "#7201a8"
             ],
             [
              0.3333333333333333,
              "#9c179e"
             ],
             [
              0.4444444444444444,
              "#bd3786"
             ],
             [
              0.5555555555555556,
              "#d8576b"
             ],
             [
              0.6666666666666666,
              "#ed7953"
             ],
             [
              0.7777777777777778,
              "#fb9f3a"
             ],
             [
              0.8888888888888888,
              "#fdca26"
             ],
             [
              1,
              "#f0f921"
             ]
            ],
            "type": "histogram2d"
           }
          ],
          "histogram2dcontour": [
           {
            "colorbar": {
             "outlinewidth": 0,
             "ticks": ""
            },
            "colorscale": [
             [
              0,
              "#0d0887"
             ],
             [
              0.1111111111111111,
              "#46039f"
             ],
             [
              0.2222222222222222,
              "#7201a8"
             ],
             [
              0.3333333333333333,
              "#9c179e"
             ],
             [
              0.4444444444444444,
              "#bd3786"
             ],
             [
              0.5555555555555556,
              "#d8576b"
             ],
             [
              0.6666666666666666,
              "#ed7953"
             ],
             [
              0.7777777777777778,
              "#fb9f3a"
             ],
             [
              0.8888888888888888,
              "#fdca26"
             ],
             [
              1,
              "#f0f921"
             ]
            ],
            "type": "histogram2dcontour"
           }
          ],
          "mesh3d": [
           {
            "colorbar": {
             "outlinewidth": 0,
             "ticks": ""
            },
            "type": "mesh3d"
           }
          ],
          "parcoords": [
           {
            "line": {
             "colorbar": {
              "outlinewidth": 0,
              "ticks": ""
             }
            },
            "type": "parcoords"
           }
          ],
          "pie": [
           {
            "automargin": true,
            "type": "pie"
           }
          ],
          "scatter": [
           {
            "marker": {
             "colorbar": {
              "outlinewidth": 0,
              "ticks": ""
             }
            },
            "type": "scatter"
           }
          ],
          "scatter3d": [
           {
            "line": {
             "colorbar": {
              "outlinewidth": 0,
              "ticks": ""
             }
            },
            "marker": {
             "colorbar": {
              "outlinewidth": 0,
              "ticks": ""
             }
            },
            "type": "scatter3d"
           }
          ],
          "scattercarpet": [
           {
            "marker": {
             "colorbar": {
              "outlinewidth": 0,
              "ticks": ""
             }
            },
            "type": "scattercarpet"
           }
          ],
          "scattergeo": [
           {
            "marker": {
             "colorbar": {
              "outlinewidth": 0,
              "ticks": ""
             }
            },
            "type": "scattergeo"
           }
          ],
          "scattergl": [
           {
            "marker": {
             "colorbar": {
              "outlinewidth": 0,
              "ticks": ""
             }
            },
            "type": "scattergl"
           }
          ],
          "scattermapbox": [
           {
            "marker": {
             "colorbar": {
              "outlinewidth": 0,
              "ticks": ""
             }
            },
            "type": "scattermapbox"
           }
          ],
          "scatterpolar": [
           {
            "marker": {
             "colorbar": {
              "outlinewidth": 0,
              "ticks": ""
             }
            },
            "type": "scatterpolar"
           }
          ],
          "scatterpolargl": [
           {
            "marker": {
             "colorbar": {
              "outlinewidth": 0,
              "ticks": ""
             }
            },
            "type": "scatterpolargl"
           }
          ],
          "scatterternary": [
           {
            "marker": {
             "colorbar": {
              "outlinewidth": 0,
              "ticks": ""
             }
            },
            "type": "scatterternary"
           }
          ],
          "surface": [
           {
            "colorbar": {
             "outlinewidth": 0,
             "ticks": ""
            },
            "colorscale": [
             [
              0,
              "#0d0887"
             ],
             [
              0.1111111111111111,
              "#46039f"
             ],
             [
              0.2222222222222222,
              "#7201a8"
             ],
             [
              0.3333333333333333,
              "#9c179e"
             ],
             [
              0.4444444444444444,
              "#bd3786"
             ],
             [
              0.5555555555555556,
              "#d8576b"
             ],
             [
              0.6666666666666666,
              "#ed7953"
             ],
             [
              0.7777777777777778,
              "#fb9f3a"
             ],
             [
              0.8888888888888888,
              "#fdca26"
             ],
             [
              1,
              "#f0f921"
             ]
            ],
            "type": "surface"
           }
          ],
          "table": [
           {
            "cells": {
             "fill": {
              "color": "#EBF0F8"
             },
             "line": {
              "color": "white"
             }
            },
            "header": {
             "fill": {
              "color": "#C8D4E3"
             },
             "line": {
              "color": "white"
             }
            },
            "type": "table"
           }
          ]
         },
         "layout": {
          "annotationdefaults": {
           "arrowcolor": "#2a3f5f",
           "arrowhead": 0,
           "arrowwidth": 1
          },
          "coloraxis": {
           "colorbar": {
            "outlinewidth": 0,
            "ticks": ""
           }
          },
          "colorscale": {
           "diverging": [
            [
             0,
             "#8e0152"
            ],
            [
             0.1,
             "#c51b7d"
            ],
            [
             0.2,
             "#de77ae"
            ],
            [
             0.3,
             "#f1b6da"
            ],
            [
             0.4,
             "#fde0ef"
            ],
            [
             0.5,
             "#f7f7f7"
            ],
            [
             0.6,
             "#e6f5d0"
            ],
            [
             0.7,
             "#b8e186"
            ],
            [
             0.8,
             "#7fbc41"
            ],
            [
             0.9,
             "#4d9221"
            ],
            [
             1,
             "#276419"
            ]
           ],
           "sequential": [
            [
             0,
             "#0d0887"
            ],
            [
             0.1111111111111111,
             "#46039f"
            ],
            [
             0.2222222222222222,
             "#7201a8"
            ],
            [
             0.3333333333333333,
             "#9c179e"
            ],
            [
             0.4444444444444444,
             "#bd3786"
            ],
            [
             0.5555555555555556,
             "#d8576b"
            ],
            [
             0.6666666666666666,
             "#ed7953"
            ],
            [
             0.7777777777777778,
             "#fb9f3a"
            ],
            [
             0.8888888888888888,
             "#fdca26"
            ],
            [
             1,
             "#f0f921"
            ]
           ],
           "sequentialminus": [
            [
             0,
             "#0d0887"
            ],
            [
             0.1111111111111111,
             "#46039f"
            ],
            [
             0.2222222222222222,
             "#7201a8"
            ],
            [
             0.3333333333333333,
             "#9c179e"
            ],
            [
             0.4444444444444444,
             "#bd3786"
            ],
            [
             0.5555555555555556,
             "#d8576b"
            ],
            [
             0.6666666666666666,
             "#ed7953"
            ],
            [
             0.7777777777777778,
             "#fb9f3a"
            ],
            [
             0.8888888888888888,
             "#fdca26"
            ],
            [
             1,
             "#f0f921"
            ]
           ]
          },
          "colorway": [
           "#636efa",
           "#EF553B",
           "#00cc96",
           "#ab63fa",
           "#FFA15A",
           "#19d3f3",
           "#FF6692",
           "#B6E880",
           "#FF97FF",
           "#FECB52"
          ],
          "font": {
           "color": "#2a3f5f"
          },
          "geo": {
           "bgcolor": "white",
           "lakecolor": "white",
           "landcolor": "#E5ECF6",
           "showlakes": true,
           "showland": true,
           "subunitcolor": "white"
          },
          "hoverlabel": {
           "align": "left"
          },
          "hovermode": "closest",
          "mapbox": {
           "style": "light"
          },
          "paper_bgcolor": "white",
          "plot_bgcolor": "#E5ECF6",
          "polar": {
           "angularaxis": {
            "gridcolor": "white",
            "linecolor": "white",
            "ticks": ""
           },
           "bgcolor": "#E5ECF6",
           "radialaxis": {
            "gridcolor": "white",
            "linecolor": "white",
            "ticks": ""
           }
          },
          "scene": {
           "xaxis": {
            "backgroundcolor": "#E5ECF6",
            "gridcolor": "white",
            "gridwidth": 2,
            "linecolor": "white",
            "showbackground": true,
            "ticks": "",
            "zerolinecolor": "white"
           },
           "yaxis": {
            "backgroundcolor": "#E5ECF6",
            "gridcolor": "white",
            "gridwidth": 2,
            "linecolor": "white",
            "showbackground": true,
            "ticks": "",
            "zerolinecolor": "white"
           },
           "zaxis": {
            "backgroundcolor": "#E5ECF6",
            "gridcolor": "white",
            "gridwidth": 2,
            "linecolor": "white",
            "showbackground": true,
            "ticks": "",
            "zerolinecolor": "white"
           }
          },
          "shapedefaults": {
           "line": {
            "color": "#2a3f5f"
           }
          },
          "ternary": {
           "aaxis": {
            "gridcolor": "white",
            "linecolor": "white",
            "ticks": ""
           },
           "baxis": {
            "gridcolor": "white",
            "linecolor": "white",
            "ticks": ""
           },
           "bgcolor": "#E5ECF6",
           "caxis": {
            "gridcolor": "white",
            "linecolor": "white",
            "ticks": ""
           }
          },
          "title": {
           "x": 0.05
          },
          "xaxis": {
           "automargin": true,
           "gridcolor": "white",
           "linecolor": "white",
           "ticks": "",
           "title": {
            "standoff": 15
           },
           "zerolinecolor": "white",
           "zerolinewidth": 2
          },
          "yaxis": {
           "automargin": true,
           "gridcolor": "white",
           "linecolor": "white",
           "ticks": "",
           "title": {
            "standoff": 15
           },
           "zerolinecolor": "white",
           "zerolinewidth": 2
          }
         }
        },
        "title": {
         "text": "Accuracy and Losses"
        },
        "xaxis": {
         "title": {
          "text": "Epoch"
         }
        },
        "yaxis": {
         "title": {
          "text": "Accuracy and Loss"
         }
        }
       }
      },
      "text/html": [
       "<div>\n",
       "        \n",
       "        \n",
       "            <div id=\"718126c9-ca39-4d45-9a28-211183cb4cab\" class=\"plotly-graph-div\" style=\"height:525px; width:100%;\"></div>\n",
       "            <script type=\"text/javascript\">\n",
       "                require([\"plotly\"], function(Plotly) {\n",
       "                    window.PLOTLYENV=window.PLOTLYENV || {};\n",
       "                    \n",
       "                if (document.getElementById(\"718126c9-ca39-4d45-9a28-211183cb4cab\")) {\n",
       "                    Plotly.newPlot(\n",
       "                        '718126c9-ca39-4d45-9a28-211183cb4cab',\n",
       "                        [{\"mode\": \"lines+markers\", \"name\": \"Training Loss\", \"type\": \"scatter\", \"x\": [1, 2, 3, 4, 5, 6, 7, 8, 9, 10, 11, 12, 13, 14, 15, 16, 17, 18, 19, 20, 21, 22, 23, 24, 25, 26, 27, 28, 29, 30, 31, 32, 33, 34, 35, 36, 37, 38, 39, 40, 41, 42, 43, 44, 45, 46, 47, 48, 49, 50], \"y\": [1.7964, 1.3983, 1.1673, 1.0128, 0.9066, 0.826, 0.7637, 0.7041, 0.6569, 0.6156, 0.5752, 0.5312, 0.5007, 0.4658, 0.4416, 0.4093, 0.3904, 0.3667, 0.3445, 0.3271, 0.3102, 0.2968, 0.28, 0.2662, 0.2546, 0.2448, 0.2315, 0.2247, 0.2105, 0.2046, 0.1966, 0.1886, 0.1772, 0.1684, 0.1678, 0.1595, 0.155, 0.145, 0.1392, 0.1323, 0.1337, 0.1249, 0.1241, 0.1215, 0.1114, 0.1114, 0.1047, 0.1031, 0.099, 0.0983]}, {\"mode\": \"lines+markers\", \"name\": \"Training Accuracy\", \"type\": \"scatter\", \"x\": [1, 2, 3, 4, 5, 6, 7, 8, 9, 10, 11, 12, 13, 14, 15, 16, 17, 18, 19, 20, 21, 22, 23, 24, 25, 26, 27, 28, 29, 30, 31, 32, 33, 34, 35, 36, 37, 38, 39, 40, 41, 42, 43, 44, 45, 46, 47, 48, 49, 50], \"y\": [0.326, 0.4872, 0.5775, 0.6359, 0.6753, 0.7049, 0.7277, 0.749, 0.7693, 0.7826, 0.7981, 0.8129, 0.8245, 0.8365, 0.846, 0.856, 0.863, 0.8727, 0.8799, 0.8861, 0.8914, 0.8953, 0.9014, 0.9057, 0.9099, 0.9145, 0.9188, 0.9219, 0.9265, 0.9288, 0.9303, 0.9328, 0.9371, 0.9402, 0.9402, 0.9433, 0.9449, 0.9496, 0.951, 0.9534, 0.9532, 0.9555, 0.9563, 0.9562, 0.9589, 0.9608, 0.9634, 0.9635, 0.9651, 0.9651]}, {\"mode\": \"lines+markers\", \"name\": \"Test Accuracy\", \"type\": \"scatter\", \"x\": [1, 2, 3, 4, 5, 6, 7, 8, 9, 10, 11, 12, 13, 14, 15, 16, 17, 18, 19, 20, 21, 22, 23, 24, 25, 26, 27, 28, 29, 30, 31, 32, 33, 34, 35, 36, 37, 38, 39, 40, 41, 42, 43, 44, 45, 46, 47, 48, 49, 50], \"y\": [0.4163, 0.565, 0.5894, 0.6482, 0.6768, 0.687, 0.7427, 0.7539, 0.7608, 0.7794, 0.8, 0.7996, 0.818, 0.8243, 0.8425, 0.849, 0.8578, 0.852, 0.8643, 0.8608, 0.8698, 0.8787, 0.8794, 0.8803, 0.8665, 0.8823, 0.8871, 0.8954, 0.8829, 0.8874, 0.8897, 0.8902, 0.8989, 0.8979, 0.8934, 0.9014, 0.8989, 0.886, 0.8944, 0.9015, 0.9038, 0.9013, 0.8992, 0.904, 0.9106, 0.9014, 0.8991, 0.902, 0.9071, 0.9046]}, {\"mode\": \"lines+markers\", \"name\": \"Test loss\", \"type\": \"scatter\", \"x\": [1, 2, 3, 4, 5, 6, 7, 8, 9, 10, 11, 12, 13, 14, 15, 16, 17, 18, 19, 20, 21, 22, 23, 24, 25, 26, 27, 28, 29, 30, 31, 32, 33, 34, 35, 36, 37, 38, 39, 40, 41, 42, 43, 44, 45, 46, 47, 48, 49, 50], \"y\": [1.6615, 1.23, 1.3603, 1.1496, 0.8905, 0.9031, 0.7133, 0.7019, 0.693, 0.7109, 0.5828, 0.591, 0.5409, 0.5162, 0.4735, 0.4425, 0.425, 0.4431, 0.4052, 0.4257, 0.3873, 0.3789, 0.3791, 0.3782, 0.4275, 0.4169, 0.3678, 0.3314, 0.3733, 0.3764, 0.3583, 0.3576, 0.337, 0.372, 0.3479, 0.3411, 0.348, 0.4113, 0.3711, 0.3515, 0.3635, 0.3515, 0.3565, 0.3325, 0.3335, 0.36, 0.3872, 0.3733, 0.3848, 0.3672]}],\n",
       "                        {\"template\": {\"data\": {\"bar\": [{\"error_x\": {\"color\": \"#2a3f5f\"}, \"error_y\": {\"color\": \"#2a3f5f\"}, \"marker\": {\"line\": {\"color\": \"#E5ECF6\", \"width\": 0.5}}, \"type\": \"bar\"}], \"barpolar\": [{\"marker\": {\"line\": {\"color\": \"#E5ECF6\", \"width\": 0.5}}, \"type\": \"barpolar\"}], \"carpet\": [{\"aaxis\": {\"endlinecolor\": \"#2a3f5f\", \"gridcolor\": \"white\", \"linecolor\": \"white\", \"minorgridcolor\": \"white\", \"startlinecolor\": \"#2a3f5f\"}, \"baxis\": {\"endlinecolor\": \"#2a3f5f\", \"gridcolor\": \"white\", \"linecolor\": \"white\", \"minorgridcolor\": \"white\", \"startlinecolor\": \"#2a3f5f\"}, \"type\": \"carpet\"}], \"choropleth\": [{\"colorbar\": {\"outlinewidth\": 0, \"ticks\": \"\"}, \"type\": \"choropleth\"}], \"contour\": [{\"colorbar\": {\"outlinewidth\": 0, \"ticks\": \"\"}, \"colorscale\": [[0.0, \"#0d0887\"], [0.1111111111111111, \"#46039f\"], [0.2222222222222222, \"#7201a8\"], [0.3333333333333333, \"#9c179e\"], [0.4444444444444444, \"#bd3786\"], [0.5555555555555556, \"#d8576b\"], [0.6666666666666666, \"#ed7953\"], [0.7777777777777778, \"#fb9f3a\"], [0.8888888888888888, \"#fdca26\"], [1.0, \"#f0f921\"]], \"type\": \"contour\"}], \"contourcarpet\": [{\"colorbar\": {\"outlinewidth\": 0, \"ticks\": \"\"}, \"type\": \"contourcarpet\"}], \"heatmap\": [{\"colorbar\": {\"outlinewidth\": 0, \"ticks\": \"\"}, \"colorscale\": [[0.0, \"#0d0887\"], [0.1111111111111111, \"#46039f\"], [0.2222222222222222, \"#7201a8\"], [0.3333333333333333, \"#9c179e\"], [0.4444444444444444, \"#bd3786\"], [0.5555555555555556, \"#d8576b\"], [0.6666666666666666, \"#ed7953\"], [0.7777777777777778, \"#fb9f3a\"], [0.8888888888888888, \"#fdca26\"], [1.0, \"#f0f921\"]], \"type\": \"heatmap\"}], \"heatmapgl\": [{\"colorbar\": {\"outlinewidth\": 0, \"ticks\": \"\"}, \"colorscale\": [[0.0, \"#0d0887\"], [0.1111111111111111, \"#46039f\"], [0.2222222222222222, \"#7201a8\"], [0.3333333333333333, \"#9c179e\"], [0.4444444444444444, \"#bd3786\"], [0.5555555555555556, \"#d8576b\"], [0.6666666666666666, \"#ed7953\"], [0.7777777777777778, \"#fb9f3a\"], [0.8888888888888888, \"#fdca26\"], [1.0, \"#f0f921\"]], \"type\": \"heatmapgl\"}], \"histogram\": [{\"marker\": {\"colorbar\": {\"outlinewidth\": 0, \"ticks\": \"\"}}, \"type\": \"histogram\"}], \"histogram2d\": [{\"colorbar\": {\"outlinewidth\": 0, \"ticks\": \"\"}, \"colorscale\": [[0.0, \"#0d0887\"], [0.1111111111111111, \"#46039f\"], [0.2222222222222222, \"#7201a8\"], [0.3333333333333333, \"#9c179e\"], [0.4444444444444444, \"#bd3786\"], [0.5555555555555556, \"#d8576b\"], [0.6666666666666666, \"#ed7953\"], [0.7777777777777778, \"#fb9f3a\"], [0.8888888888888888, \"#fdca26\"], [1.0, \"#f0f921\"]], \"type\": \"histogram2d\"}], \"histogram2dcontour\": [{\"colorbar\": {\"outlinewidth\": 0, \"ticks\": \"\"}, \"colorscale\": [[0.0, \"#0d0887\"], [0.1111111111111111, \"#46039f\"], [0.2222222222222222, \"#7201a8\"], [0.3333333333333333, \"#9c179e\"], [0.4444444444444444, \"#bd3786\"], [0.5555555555555556, \"#d8576b\"], [0.6666666666666666, \"#ed7953\"], [0.7777777777777778, \"#fb9f3a\"], [0.8888888888888888, \"#fdca26\"], [1.0, \"#f0f921\"]], \"type\": \"histogram2dcontour\"}], \"mesh3d\": [{\"colorbar\": {\"outlinewidth\": 0, \"ticks\": \"\"}, \"type\": \"mesh3d\"}], \"parcoords\": [{\"line\": {\"colorbar\": {\"outlinewidth\": 0, \"ticks\": \"\"}}, \"type\": \"parcoords\"}], \"pie\": [{\"automargin\": true, \"type\": \"pie\"}], \"scatter\": [{\"marker\": {\"colorbar\": {\"outlinewidth\": 0, \"ticks\": \"\"}}, \"type\": \"scatter\"}], \"scatter3d\": [{\"line\": {\"colorbar\": {\"outlinewidth\": 0, \"ticks\": \"\"}}, \"marker\": {\"colorbar\": {\"outlinewidth\": 0, \"ticks\": \"\"}}, \"type\": \"scatter3d\"}], \"scattercarpet\": [{\"marker\": {\"colorbar\": {\"outlinewidth\": 0, \"ticks\": \"\"}}, \"type\": \"scattercarpet\"}], \"scattergeo\": [{\"marker\": {\"colorbar\": {\"outlinewidth\": 0, \"ticks\": \"\"}}, \"type\": \"scattergeo\"}], \"scattergl\": [{\"marker\": {\"colorbar\": {\"outlinewidth\": 0, \"ticks\": \"\"}}, \"type\": \"scattergl\"}], \"scattermapbox\": [{\"marker\": {\"colorbar\": {\"outlinewidth\": 0, \"ticks\": \"\"}}, \"type\": \"scattermapbox\"}], \"scatterpolar\": [{\"marker\": {\"colorbar\": {\"outlinewidth\": 0, \"ticks\": \"\"}}, \"type\": \"scatterpolar\"}], \"scatterpolargl\": [{\"marker\": {\"colorbar\": {\"outlinewidth\": 0, \"ticks\": \"\"}}, \"type\": \"scatterpolargl\"}], \"scatterternary\": [{\"marker\": {\"colorbar\": {\"outlinewidth\": 0, \"ticks\": \"\"}}, \"type\": \"scatterternary\"}], \"surface\": [{\"colorbar\": {\"outlinewidth\": 0, \"ticks\": \"\"}, \"colorscale\": [[0.0, \"#0d0887\"], [0.1111111111111111, \"#46039f\"], [0.2222222222222222, \"#7201a8\"], [0.3333333333333333, \"#9c179e\"], [0.4444444444444444, \"#bd3786\"], [0.5555555555555556, \"#d8576b\"], [0.6666666666666666, \"#ed7953\"], [0.7777777777777778, \"#fb9f3a\"], [0.8888888888888888, \"#fdca26\"], [1.0, \"#f0f921\"]], \"type\": \"surface\"}], \"table\": [{\"cells\": {\"fill\": {\"color\": \"#EBF0F8\"}, \"line\": {\"color\": \"white\"}}, \"header\": {\"fill\": {\"color\": \"#C8D4E3\"}, \"line\": {\"color\": \"white\"}}, \"type\": \"table\"}]}, \"layout\": {\"annotationdefaults\": {\"arrowcolor\": \"#2a3f5f\", \"arrowhead\": 0, \"arrowwidth\": 1}, \"coloraxis\": {\"colorbar\": {\"outlinewidth\": 0, \"ticks\": \"\"}}, \"colorscale\": {\"diverging\": [[0, \"#8e0152\"], [0.1, \"#c51b7d\"], [0.2, \"#de77ae\"], [0.3, \"#f1b6da\"], [0.4, \"#fde0ef\"], [0.5, \"#f7f7f7\"], [0.6, \"#e6f5d0\"], [0.7, \"#b8e186\"], [0.8, \"#7fbc41\"], [0.9, \"#4d9221\"], [1, \"#276419\"]], \"sequential\": [[0.0, \"#0d0887\"], [0.1111111111111111, \"#46039f\"], [0.2222222222222222, \"#7201a8\"], [0.3333333333333333, \"#9c179e\"], [0.4444444444444444, \"#bd3786\"], [0.5555555555555556, \"#d8576b\"], [0.6666666666666666, \"#ed7953\"], [0.7777777777777778, \"#fb9f3a\"], [0.8888888888888888, \"#fdca26\"], [1.0, \"#f0f921\"]], \"sequentialminus\": [[0.0, \"#0d0887\"], [0.1111111111111111, \"#46039f\"], [0.2222222222222222, \"#7201a8\"], [0.3333333333333333, \"#9c179e\"], [0.4444444444444444, \"#bd3786\"], [0.5555555555555556, \"#d8576b\"], [0.6666666666666666, \"#ed7953\"], [0.7777777777777778, \"#fb9f3a\"], [0.8888888888888888, \"#fdca26\"], [1.0, \"#f0f921\"]]}, \"colorway\": [\"#636efa\", \"#EF553B\", \"#00cc96\", \"#ab63fa\", \"#FFA15A\", \"#19d3f3\", \"#FF6692\", \"#B6E880\", \"#FF97FF\", \"#FECB52\"], \"font\": {\"color\": \"#2a3f5f\"}, \"geo\": {\"bgcolor\": \"white\", \"lakecolor\": \"white\", \"landcolor\": \"#E5ECF6\", \"showlakes\": true, \"showland\": true, \"subunitcolor\": \"white\"}, \"hoverlabel\": {\"align\": \"left\"}, \"hovermode\": \"closest\", \"mapbox\": {\"style\": \"light\"}, \"paper_bgcolor\": \"white\", \"plot_bgcolor\": \"#E5ECF6\", \"polar\": {\"angularaxis\": {\"gridcolor\": \"white\", \"linecolor\": \"white\", \"ticks\": \"\"}, \"bgcolor\": \"#E5ECF6\", \"radialaxis\": {\"gridcolor\": \"white\", \"linecolor\": \"white\", \"ticks\": \"\"}}, \"scene\": {\"xaxis\": {\"backgroundcolor\": \"#E5ECF6\", \"gridcolor\": \"white\", \"gridwidth\": 2, \"linecolor\": \"white\", \"showbackground\": true, \"ticks\": \"\", \"zerolinecolor\": \"white\"}, \"yaxis\": {\"backgroundcolor\": \"#E5ECF6\", \"gridcolor\": \"white\", \"gridwidth\": 2, \"linecolor\": \"white\", \"showbackground\": true, \"ticks\": \"\", \"zerolinecolor\": \"white\"}, \"zaxis\": {\"backgroundcolor\": \"#E5ECF6\", \"gridcolor\": \"white\", \"gridwidth\": 2, \"linecolor\": \"white\", \"showbackground\": true, \"ticks\": \"\", \"zerolinecolor\": \"white\"}}, \"shapedefaults\": {\"line\": {\"color\": \"#2a3f5f\"}}, \"ternary\": {\"aaxis\": {\"gridcolor\": \"white\", \"linecolor\": \"white\", \"ticks\": \"\"}, \"baxis\": {\"gridcolor\": \"white\", \"linecolor\": \"white\", \"ticks\": \"\"}, \"bgcolor\": \"#E5ECF6\", \"caxis\": {\"gridcolor\": \"white\", \"linecolor\": \"white\", \"ticks\": \"\"}}, \"title\": {\"x\": 0.05}, \"xaxis\": {\"automargin\": true, \"gridcolor\": \"white\", \"linecolor\": \"white\", \"ticks\": \"\", \"title\": {\"standoff\": 15}, \"zerolinecolor\": \"white\", \"zerolinewidth\": 2}, \"yaxis\": {\"automargin\": true, \"gridcolor\": \"white\", \"linecolor\": \"white\", \"ticks\": \"\", \"title\": {\"standoff\": 15}, \"zerolinecolor\": \"white\", \"zerolinewidth\": 2}}}, \"title\": {\"text\": \"Accuracy and Losses\"}, \"xaxis\": {\"title\": {\"text\": \"Epoch\"}}, \"yaxis\": {\"title\": {\"text\": \"Accuracy and Loss\"}}},\n",
       "                        {\"responsive\": true}\n",
       "                    ).then(function(){\n",
       "                            \n",
       "var gd = document.getElementById('718126c9-ca39-4d45-9a28-211183cb4cab');\n",
       "var x = new MutationObserver(function (mutations, observer) {{\n",
       "        var display = window.getComputedStyle(gd).display;\n",
       "        if (!display || display === 'none') {{\n",
       "            console.log([gd, 'removed!']);\n",
       "            Plotly.purge(gd);\n",
       "            observer.disconnect();\n",
       "        }}\n",
       "}});\n",
       "\n",
       "// Listen for the removal of the full notebook cells\n",
       "var notebookContainer = gd.closest('#notebook-container');\n",
       "if (notebookContainer) {{\n",
       "    x.observe(notebookContainer, {childList: true});\n",
       "}}\n",
       "\n",
       "// Listen for the clearing of the current output cell\n",
       "var outputEl = gd.closest('.output');\n",
       "if (outputEl) {{\n",
       "    x.observe(outputEl, {childList: true});\n",
       "}}\n",
       "\n",
       "                        })\n",
       "                };\n",
       "                });\n",
       "            </script>\n",
       "        </div>"
      ]
     },
     "metadata": {},
     "output_type": "display_data"
    }
   ],
   "source": [
    "fig = go.Figure()\n",
    "\n",
    "fig = fig.add_trace(go.Scatter(x=df[\"Epoch\"], y=df[\"train_loss\"],\n",
    "                    mode='lines+markers',\n",
    "                    name='Training Loss'))\n",
    "\n",
    "fig.add_trace(go.Scatter(x=df[\"Epoch\"], y=df[\"train_acc\"],\n",
    "                    mode='lines+markers',\n",
    "                    name='Training Accuracy'))\n",
    "\n",
    "fig.add_trace(go.Scatter(x=df[\"Epoch\"], y=df[\"test_acc\"],\n",
    "                    mode='lines+markers',\n",
    "                    name='Test Accuracy'))\n",
    "\n",
    "fig.add_trace(go.Scatter(x=df[\"Epoch\"], y=df[\"test_loss\"],\n",
    "                    mode='lines+markers',\n",
    "                    name='Test loss'))\n",
    "# Edit the layout\n",
    "fig.update_layout(title='Accuracy and Losses',\n",
    "                   xaxis_title='Epoch',\n",
    "                   yaxis_title='Accuracy and Loss')\n",
    "fig.show()"
   ]
  },
  {
   "cell_type": "code",
   "execution_count": 46,
   "metadata": {},
   "outputs": [],
   "source": [
    "def plot_accuracy(test_accuracy: list,train_accuracy,model_name,ep, file_name):\n",
    "    \"\"\"Plot accuracy\"\"\"\n",
    "    plt.figure()\n",
    "    x =  range(1,ep+1)\n",
    "    plt.plot(x,test_accuracy,color='b',label='Test')\n",
    "    plt.plot(x,train_accuracy,color='r',label='Train')\n",
    "    plt.title(model_name)\n",
    "    # plt.xticks(\n",
    "    #     [i for i in range(0, len(accuracy))],\n",
    "    #     [i + 1 for i in range(0, len(accuracy))])\n",
    "    plt.ylabel('Accuracy')\n",
    "    plt.xlabel('Epoch')\n",
    "    plt.legend()\n",
    "    plt.show()\n",
    "    plt.savefig(file_name + '.png'.format(model_name))"
   ]
  },
  {
   "cell_type": "code",
   "execution_count": 47,
   "metadata": {},
   "outputs": [
    {
     "data": {
      "image/png": "[encoded data removed]",
      "text/plain": [
       "<Figure size 432x288 with 1 Axes>"
      ]
     },
     "metadata": {
      "needs_background": "light"
     },
     "output_type": "display_data"
    },
    {
     "data": {
      "text/plain": [
       "<Figure size 432x288 with 0 Axes>"
      ]
     },
     "metadata": {},
     "output_type": "display_data"
    }
   ],
   "source": [
    "plot_accuracy(df['test_acc'].tolist(), df['train_acc'].tolist(), 'ResNet34', 50, \"Resnet acc plot\")"
   ]
  },
  {
   "cell_type": "code",
   "execution_count": 49,
   "metadata": {},
   "outputs": [],
   "source": [
    "def plot_loss(test_loss: list,train_loss,model_name,ep, file_name):\n",
    "    \"\"\"Plot loss\"\"\"\n",
    "    plt.figure()\n",
    "    x =  range(1,ep+1)\n",
    "    plt.plot(x,test_loss,color='b',label='Test')\n",
    "    plt.plot(x,train_loss,color='r',label='Train')\n",
    "    plt.title(model_name)\n",
    "    # plt.xticks(\n",
    "    #     [i for i in range(0, len(loss))],\n",
    "    #     [i + 1 for i in range(0, len(loss))])\n",
    "    plt.ylabel('loss')\n",
    "    plt.xlabel('Epoch')\n",
    "    plt.legend()\n",
    "    plt.show()\n",
    "    plt.savefig(file_name + '.png'.format(model_name))"
   ]
  },
  {
   "cell_type": "code",
   "execution_count": 50,
   "metadata": {},
   "outputs": [
    {
     "data": {
      "image/png": "[encoded data removed]",
      "text/plain": [
       "<Figure size 432x288 with 1 Axes>"
      ]
     },
     "metadata": {
      "needs_background": "light"
     },
     "output_type": "display_data"
    },
    {
     "data": {
      "text/plain": [
       "<Figure size 432x288 with 0 Axes>"
      ]
     },
     "metadata": {},
     "output_type": "display_data"
    }
   ],
   "source": [
    "plot_loss(df['test_loss'].tolist(), df['train_loss'].tolist(), 'ResNet34', 50, \"Resnet loss plot\")"
   ]
  },
  {
   "cell_type": "code",
   "execution_count": null,
   "metadata": {},
   "outputs": [],
   "source": []
  }
 ],
 "metadata": {
  "kernelspec": {
   "display_name": "Python 3",
   "language": "python",
   "name": "python3"
  },
  "language_info": {
   "codemirror_mode": {
    "name": "ipython",
    "version": 3
   },
   "file_extension": ".py",
   "mimetype": "text/x-python",
   "name": "python",
   "nbconvert_exporter": "python",
   "pygments_lexer": "ipython3",
   "version": "3.7.4"
  }
 },
 "nbformat": 4,
 "nbformat_minor": 2
}
